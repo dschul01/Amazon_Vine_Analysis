{
  "cells": [
    {
      "cell_type": "code",
      "execution_count": 1,
      "metadata": {
        "colab": {
          "base_uri": "https://localhost:8080/"
        },
        "id": "V58rxea0HqSa",
        "outputId": "64abe7df-22ce-4d49-e11d-6d4d613e12e6"
      },
      "outputs": [
        {
          "name": "stdout",
          "output_type": "stream",
          "text": [
            "Get:1 https://cloud.r-project.org/bin/linux/ubuntu bionic-cran40/ InRelease [3,626 B]\n",
            "Ign:2 https://developer.download.nvidia.com/compute/machine-learning/repos/ubuntu1804/x86_64  InRelease\n",
            "Get:3 https://developer.download.nvidia.com/compute/cuda/repos/ubuntu1804/x86_64  InRelease [1,581 B]\n",
            "Hit:4 https://developer.download.nvidia.com/compute/machine-learning/repos/ubuntu1804/x86_64  Release\n",
            "Get:5 https://cloud.r-project.org/bin/linux/ubuntu bionic-cran40/ Packages [95.2 kB]\n",
            "Hit:6 http://archive.ubuntu.com/ubuntu bionic InRelease\n",
            "Get:7 https://developer.download.nvidia.com/compute/cuda/repos/ubuntu1804/x86_64  Packages [983 kB]\n",
            "Get:8 http://security.ubuntu.com/ubuntu bionic-security InRelease [88.7 kB]\n",
            "Get:9 http://ppa.launchpad.net/c2d4u.team/c2d4u4.0+/ubuntu bionic InRelease [15.9 kB]\n",
            "Get:10 http://archive.ubuntu.com/ubuntu bionic-updates InRelease [88.7 kB]\n",
            "Hit:12 http://ppa.launchpad.net/cran/libgit2/ubuntu bionic InRelease\n",
            "Get:13 http://archive.ubuntu.com/ubuntu bionic-backports InRelease [83.3 kB]\n",
            "Hit:14 http://ppa.launchpad.net/deadsnakes/ppa/ubuntu bionic InRelease\n",
            "Get:15 http://security.ubuntu.com/ubuntu bionic-security/restricted amd64 Packages [1,208 kB]\n",
            "Get:16 http://archive.ubuntu.com/ubuntu bionic-updates/universe amd64 Packages [2,332 kB]\n",
            "Hit:17 http://ppa.launchpad.net/graphics-drivers/ppa/ubuntu bionic InRelease\n",
            "Get:18 http://ppa.launchpad.net/c2d4u.team/c2d4u4.0+/ubuntu bionic/main Sources [2,165 kB]\n",
            "Get:19 http://security.ubuntu.com/ubuntu bionic-security/universe amd64 Packages [1,554 kB]\n",
            "Get:20 http://security.ubuntu.com/ubuntu bionic-security/main amd64 Packages [3,035 kB]\n",
            "Get:21 http://archive.ubuntu.com/ubuntu bionic-updates/restricted amd64 Packages [1,248 kB]\n",
            "Get:22 http://archive.ubuntu.com/ubuntu bionic-updates/main amd64 Packages [3,467 kB]\n",
            "Get:23 http://ppa.launchpad.net/c2d4u.team/c2d4u4.0+/ubuntu bionic/main amd64 Packages [1,109 kB]\n",
            "Fetched 17.5 MB in 6s (2,845 kB/s)\n",
            "Reading package lists... Done\n"
          ]
        }
      ],
      "source": [
        "import os\n",
        "# Find the latest version of spark 3.0  from http://www-us.apache.org/dist/spark/ and enter as the spark version\n",
        "# For example:\n",
        "# spark_version = 'spark-3.0.2'\n",
        "spark_version = 'spark-3.3.0'\n",
        "os.environ['SPARK_VERSION']=spark_version\n",
        "\n",
        "# Install Spark and Java\n",
        "!apt-get update\n",
        "!apt-get install openjdk-11-jdk-headless -qq > /dev/null\n",
        "!wget -q http://www.apache.org/dist/spark/$SPARK_VERSION/$SPARK_VERSION-bin-hadoop3.tgz\n",
        "!tar xf $SPARK_VERSION-bin-hadoop3.tgz\n",
        "!pip install -q findspark\n",
        "\n",
        "# Set Environment Variables\n",
        "os.environ[\"JAVA_HOME\"] = \"/usr/lib/jvm/java-11-openjdk-amd64\"\n",
        "os.environ[\"SPARK_HOME\"] = f\"/content/{spark_version}-bin-hadoop3\"\n",
        "\n",
        "# Start a SparkSession\n",
        "import findspark\n",
        "findspark.init()"
      ]
    },
    {
      "cell_type": "code",
      "execution_count": 2,
      "metadata": {
        "colab": {
          "base_uri": "https://localhost:8080/"
        },
        "id": "_xKwTpATHqSe",
        "outputId": "30c1e202-77a9-4c84-9b86-294a69094599"
      },
      "outputs": [
        {
          "name": "stdout",
          "output_type": "stream",
          "text": [
            "--2022-10-20 02:53:17--  https://jdbc.postgresql.org/download/postgresql-42.2.16.jar\n",
            "Resolving jdbc.postgresql.org (jdbc.postgresql.org)... 72.32.157.228, 2001:4800:3e1:1::228\n",
            "Connecting to jdbc.postgresql.org (jdbc.postgresql.org)|72.32.157.228|:443... connected.\n",
            "HTTP request sent, awaiting response... 200 OK\n",
            "Length: 1002883 (979K) [application/java-archive]\n",
            "Saving to: ‘postgresql-42.2.16.jar’\n",
            "\n",
            "postgresql-42.2.16. 100%[===================>] 979.38K  1.17MB/s    in 0.8s    \n",
            "\n",
            "2022-10-20 02:53:19 (1.17 MB/s) - ‘postgresql-42.2.16.jar’ saved [1002883/1002883]\n",
            "\n"
          ]
        }
      ],
      "source": [
        "# Download the Postgres driver that will allow Spark to interact with Postgres.\n",
        "!wget https://jdbc.postgresql.org/download/postgresql-42.2.16.jar"
      ]
    },
    {
      "cell_type": "code",
      "execution_count": 3,
      "metadata": {
        "id": "MMqDAjVS0KN9"
      },
      "outputs": [],
      "source": [
        "from pyspark.sql import SparkSession\n",
        "spark = SparkSession.builder.appName(\"M16-Amazon-Challenge2\").getOrCreate()"
      ]
    },
    {
      "cell_type": "markdown",
      "metadata": {
        "id": "cyBsySGuY-9V"
      },
      "source": [
        "### Load Amazon Data into Spark DataFrame"
      ]
    },
    {
      "cell_type": "code",
      "execution_count": 4,
      "metadata": {
        "colab": {
          "base_uri": "https://localhost:8080/"
        },
        "id": "CtCmBhQJY-9Z",
        "outputId": "001f841d-083f-4fff-bb41-9c4fdf160fdb"
      },
      "outputs": [
        {
          "name": "stdout",
          "output_type": "stream",
          "text": [
            "+-----------+-----------+--------------+----------+--------------+--------------------+----------------+-----------+-------------+-----------+----+-----------------+--------------------+--------------------+-------------------+\n",
            "|marketplace|customer_id|     review_id|product_id|product_parent|       product_title|product_category|star_rating|helpful_votes|total_votes|vine|verified_purchase|     review_headline|         review_body|        review_date|\n",
            "+-----------+-----------+--------------+----------+--------------+--------------------+----------------+-----------+-------------+-----------+----+-----------------+--------------------+--------------------+-------------------+\n",
            "|         US|    3653882|R3O9SGZBVQBV76|B00FALQ1ZC|     937001370|Invicta Women's 1...|         Watches|          5|            0|          0|   N|                Y|          Five Stars|Absolutely love t...|2015-08-31 00:00:00|\n",
            "|         US|   14661224| RKH8BNC3L5DLF|B00D3RGO20|     484010722|Kenneth Cole New ...|         Watches|          5|            0|          0|   N|                Y|I love thiswatch ...|I love this watch...|2015-08-31 00:00:00|\n",
            "|         US|   27324930|R2HLE8WKZSU3NL|B00DKYC7TK|     361166390|Ritche 22mm Black...|         Watches|          2|            1|          1|   N|                Y|           Two Stars|           Scratches|2015-08-31 00:00:00|\n",
            "|         US|    7211452|R31U3UH5AZ42LL|B000EQS1JW|     958035625|Citizen Men's BM8...|         Watches|          5|            0|          0|   N|                Y|          Five Stars|It works well on ...|2015-08-31 00:00:00|\n",
            "|         US|   12733322|R2SV659OUJ945Y|B00A6GFD7S|     765328221|Orient ER27009B M...|         Watches|          4|            0|          0|   N|                Y|Beautiful face, b...|Beautiful watch f...|2015-08-31 00:00:00|\n",
            "|         US|    6576411| RA51CP8TR5A2L|B00EYSOSE8|     230493695|Casio Men's GW-94...|         Watches|          5|            0|          0|   N|                Y|       No complaints|i love this watch...|2015-08-31 00:00:00|\n",
            "|         US|   11811565| RB2Q7DLDN6TH6|B00WM0QA3M|     549298279|Fossil Women's ES...|         Watches|          5|            1|          1|   N|                Y|          Five Stars|for my wife and s...|2015-08-31 00:00:00|\n",
            "|         US|   49401598|R2RHFJV0UYBK3Y|B00A4EYBR0|     844009113|INFANTRY Mens Nig...|         Watches|          1|            1|          5|   N|                N|I was about to bu...|I was about to bu...|2015-08-31 00:00:00|\n",
            "|         US|   45925069|R2Z6JOQ94LFHEP|B00MAMPGGE|     263720892|G-Shock Men's Gre...|         Watches|          5|            1|          2|   N|                Y|      Perfect watch!|Watch is perfect....|2015-08-31 00:00:00|\n",
            "|         US|   44751341| RX27XIIWY5JPB|B004LBPB7Q|     124278407|Heiden Quad Watch...|         Watches|          4|            0|          0|   N|                Y|Great quality and...|Great quality and...|2015-08-31 00:00:00|\n",
            "|         US|    9962330|R15C7QEZT0LGZN|B00KGTVGKS|      28017857|Fossil Women's ES...|         Watches|          4|            2|          2|   N|                Y|           Satisfied|The watch was pre...|2015-08-31 00:00:00|\n",
            "|         US|   16097204|R361XSS37V0NCZ|B0039UT5OU|     685450910|Casio General Men...|         Watches|          1|            0|          0|   N|                N|I do not think th...|I bought this wat...|2015-08-31 00:00:00|\n",
            "|         US|   51330346| ROTNLALUAJAUB|B00MPF0XJQ|     767769082|2Tone Gold Silver...|         Watches|          3|            0|          0|   N|                Y|         Three Stars|It is a cheap wat...|2015-08-31 00:00:00|\n",
            "|         US|    4201739|R2DYX7QU6BGOHR|B003P1OHHS|     648595227|Bulova Men's 98B1...|         Watches|          5|            0|          0|   N|                Y|          Five Stars|Heavier than i th...|2015-08-31 00:00:00|\n",
            "|         US|   26339765| RWASY7FKI7QOT|B00R70YEOE|     457338020|Casio - G-Shock -...|         Watches|          5|            2|          3|   N|                Y|  Worth it - love it|Had it for severa...|2015-08-31 00:00:00|\n",
            "|         US|    2692576|R2KKYZIN3CCL21|B000FVE3BG|     824370661|Invicta Men's 332...|         Watches|          5|            0|          0|   N|                Y|This is when diff...|This one is diffe...|2015-08-31 00:00:00|\n",
            "|         US|   44713366|R22H4FGVD5O52O|B008X6JB12|     814431355|Seiko Women's SUT...|         Watches|          4|            1|          1|   N|                Y|Thewatch is attra...|The watch is attr...|2015-08-31 00:00:00|\n",
            "|         US|   32778769|R11UACZERCM4ZY|B0040UOFPW|     187700878|Anne Klein Women'...|         Watches|          5|            0|          0|   N|                Y|          Five Stars|      said my wife..|2015-08-31 00:00:00|\n",
            "|         US|   27258523|R1AT8NQ38UQOL6|B00UR2R5UY|     594315262|Guess U13630G1 Me...|         Watches|          5|            0|          0|   N|                Y|          Five Stars|Nice watch, on ti...|2015-08-31 00:00:00|\n",
            "|         US|   42646538|R2NCZRQGIF1Q75|B00HFF57L0|     520810507|Nixon Men's Geo V...|         Watches|          4|            0|          0|   N|                Y|        Very stylish|Looks great and l...|2015-08-31 00:00:00|\n",
            "+-----------+-----------+--------------+----------+--------------+--------------------+----------------+-----------+-------------+-----------+----+-----------------+--------------------+--------------------+-------------------+\n",
            "only showing top 20 rows\n",
            "\n"
          ]
        }
      ],
      "source": [
        "from pyspark import SparkFiles\n",
        "url = \"https://s3.amazonaws.com/amazon-reviews-pds/tsv/amazon_reviews_us_Watches_v1_00.tsv.gz\"\n",
        "spark.sparkContext.addFile(url)\n",
        "df = spark.read.option(\"encoding\", \"UTF-8\").csv(SparkFiles.get(\"amazon_reviews_us_Watches_v1_00.tsv.gz\"), sep=\"\\t\", header=True, inferSchema=True)\n",
        "df.show()"
      ]
    },
    {
      "cell_type": "markdown",
      "metadata": {
        "id": "2yUSe55VY-9t"
      },
      "source": [
        "### Filter Vote DataFrame using various criteria"
      ]
    },
    {
      "cell_type": "code",
      "execution_count": 28,
      "metadata": {
        "colab": {
          "base_uri": "https://localhost:8080/"
        },
        "id": "2KUM_xwp1tbs",
        "outputId": "ea296aa4-4e21-474a-e42a-be954626c6df"
      },
      "outputs": [
        {
          "name": "stdout",
          "output_type": "stream",
          "text": [
            "+-----------+-------------+-----------+----+-----------------+\n",
            "|star_rating|helpful_votes|total_votes|vine|verified_purchase|\n",
            "+-----------+-------------+-----------+----+-----------------+\n",
            "|          5|           19|         20|   N|                Y|\n",
            "|          5|           19|         20|   N|                Y|\n",
            "|          5|           30|         30|   N|                Y|\n",
            "|          1|            8|         30|   N|                N|\n",
            "|          5|           35|         37|   N|                Y|\n",
            "|          5|           19|         22|   N|                Y|\n",
            "|          5|           27|         28|   N|                Y|\n",
            "|          4|           25|         26|   N|                Y|\n",
            "|          1|           14|         20|   N|                Y|\n",
            "|          5|           25|         27|   N|                Y|\n",
            "|          5|           26|         28|   N|                Y|\n",
            "|          5|           48|         49|   N|                N|\n",
            "|          5|           19|         20|   N|                Y|\n",
            "|          5|           49|         52|   Y|                N|\n",
            "|          5|           27|         28|   N|                Y|\n",
            "|          4|           24|         24|   N|                Y|\n",
            "|          5|           21|         21|   N|                Y|\n",
            "|          5|           33|         46|   N|                N|\n",
            "|          5|           19|         24|   N|                Y|\n",
            "|          1|           17|         20|   N|                N|\n",
            "+-----------+-------------+-----------+----+-----------------+\n",
            "only showing top 20 rows\n",
            "\n"
          ]
        }
      ],
      "source": [
        "# Filter Vote Dataframe to retrieve rows with >= 20 total votes\n",
        "votes20_df = df.select([\"star_rating\", \"helpful_votes\", \"total_votes\", \"vine\", \"verified_purchase\"])\n",
        "votes20_df = votes20_df.filter(votes20_df[\"total_votes\"] >=20)\n",
        "votes20_df.show(20)"
      ]
    },
    {
      "cell_type": "code",
      "execution_count": 37,
      "metadata": {
        "colab": {
          "base_uri": "https://localhost:8080/"
        },
        "id": "D-m6R7Ki27dF",
        "outputId": "52e11f06-dde8-4fd2-db8f-02d20a3636b0"
      },
      "outputs": [
        {
          "name": "stdout",
          "output_type": "stream",
          "text": [
            "+-----------+-------------+-----------+----+-----------------+\n",
            "|star_rating|helpful_votes|total_votes|vine|verified_purchase|\n",
            "+-----------+-------------+-----------+----+-----------------+\n",
            "|          5|           19|         20|   N|                Y|\n",
            "|          5|           19|         20|   N|                Y|\n",
            "|          5|           30|         30|   N|                Y|\n",
            "|          5|           35|         37|   N|                Y|\n",
            "|          5|           19|         22|   N|                Y|\n",
            "|          5|           27|         28|   N|                Y|\n",
            "|          4|           25|         26|   N|                Y|\n",
            "|          1|           14|         20|   N|                Y|\n",
            "|          5|           25|         27|   N|                Y|\n",
            "|          5|           26|         28|   N|                Y|\n",
            "|          5|           48|         49|   N|                N|\n",
            "|          5|           19|         20|   N|                Y|\n",
            "|          5|           49|         52|   Y|                N|\n",
            "|          5|           27|         28|   N|                Y|\n",
            "|          4|           24|         24|   N|                Y|\n",
            "|          5|           21|         21|   N|                Y|\n",
            "|          5|           33|         46|   N|                N|\n",
            "|          5|           19|         24|   N|                Y|\n",
            "|          1|           17|         20|   N|                N|\n",
            "|          4|           25|         26|   N|                Y|\n",
            "+-----------+-------------+-----------+----+-----------------+\n",
            "only showing top 20 rows\n",
            "\n"
          ]
        }
      ],
      "source": [
        "# Filter New Dataframe created in previous step to retrieve rows where 'helpful_votes'/'total_votes >= 50%\n",
        "helpfulvotes_df = votes20_df.filter(votes20_df[\"helpful_votes\"]/votes20_df[\"total_votes\"] >= 0.50)\n",
        "helpfulvotes_df.show(20)"
      ]
    },
    {
      "cell_type": "code",
      "execution_count": 30,
      "metadata": {
        "colab": {
          "base_uri": "https://localhost:8080/"
        },
        "id": "YuRfF-Sz27gu",
        "outputId": "401ab568-7030-4078-a53e-1b3859f7785b"
      },
      "outputs": [
        {
          "name": "stdout",
          "output_type": "stream",
          "text": [
            "+-----------+-------------+-----------+----+-----------------+\n",
            "|star_rating|helpful_votes|total_votes|vine|verified_purchase|\n",
            "+-----------+-------------+-----------+----+-----------------+\n",
            "|          5|           49|         52|   Y|                N|\n",
            "|          5|           34|         39|   Y|                N|\n",
            "|          4|           37|         39|   Y|                N|\n",
            "|          3|           18|         25|   Y|                N|\n",
            "|          5|           44|         45|   Y|                N|\n",
            "|          5|           26|         27|   Y|                N|\n",
            "|          4|           43|         48|   Y|                N|\n",
            "|          4|           20|         23|   Y|                N|\n",
            "|          4|           27|         30|   Y|                N|\n",
            "|          5|           26|         28|   Y|                N|\n",
            "|          4|          349|        370|   Y|                N|\n",
            "|          4|          107|        121|   Y|                N|\n",
            "|          2|           22|         30|   Y|                N|\n",
            "|          5|           54|         60|   Y|                N|\n",
            "|          4|          135|        144|   Y|                N|\n",
            "|          4|           20|         21|   Y|                N|\n",
            "|          3|           13|         22|   Y|                N|\n",
            "|          4|           61|         90|   Y|                N|\n",
            "|          5|           15|         20|   Y|                N|\n",
            "|          2|           24|         33|   Y|                N|\n",
            "+-----------+-------------+-----------+----+-----------------+\n",
            "only showing top 20 rows\n",
            "\n"
          ]
        }
      ],
      "source": [
        "# Filter New Dataframe created in previous step to retrieve rows containing a paid Vine program review\n",
        "paidreview_df = helpfulvotes_df.filter(helpfulvotes_df[\"vine\"] == 'Y' )\n",
        "paidreview_df.show(20)"
      ]
    },
    {
      "cell_type": "code",
      "execution_count": 32,
      "metadata": {
        "colab": {
          "base_uri": "https://localhost:8080/"
        },
        "id": "3_e4vdOM27kH",
        "outputId": "6844563c-0ab5-437c-efdb-d3a68880f3b0"
      },
      "outputs": [
        {
          "name": "stdout",
          "output_type": "stream",
          "text": [
            "+-----------+-------------+-----------+----+-----------------+\n",
            "|star_rating|helpful_votes|total_votes|vine|verified_purchase|\n",
            "+-----------+-------------+-----------+----+-----------------+\n",
            "|          5|           19|         20|   N|                Y|\n",
            "|          5|           19|         20|   N|                Y|\n",
            "|          5|           30|         30|   N|                Y|\n",
            "|          5|           35|         37|   N|                Y|\n",
            "|          5|           19|         22|   N|                Y|\n",
            "|          5|           27|         28|   N|                Y|\n",
            "|          4|           25|         26|   N|                Y|\n",
            "|          1|           14|         20|   N|                Y|\n",
            "|          5|           25|         27|   N|                Y|\n",
            "|          5|           26|         28|   N|                Y|\n",
            "|          5|           48|         49|   N|                N|\n",
            "|          5|           19|         20|   N|                Y|\n",
            "|          5|           27|         28|   N|                Y|\n",
            "|          4|           24|         24|   N|                Y|\n",
            "|          5|           21|         21|   N|                Y|\n",
            "|          5|           33|         46|   N|                N|\n",
            "|          5|           19|         24|   N|                Y|\n",
            "|          1|           17|         20|   N|                N|\n",
            "|          4|           25|         26|   N|                Y|\n",
            "|          5|           23|         24|   N|                Y|\n",
            "+-----------+-------------+-----------+----+-----------------+\n",
            "only showing top 20 rows\n",
            "\n"
          ]
        }
      ],
      "source": [
        "# Filter New Dataframe created 2 previous steps ago to retrieve rows containing a review not part of the Vine program \n",
        "nonpaidreview_df = helpfulvotes_df.filter(helpfulvotes_df[\"vine\"] == 'N' )\n",
        "nonpaidreview_df.show(20)"
      ]
    },
    {
      "cell_type": "code",
      "execution_count": 9,
      "metadata": {
        "id": "dU_bCZPm27nb"
      },
      "outputs": [],
      "source": [
        "from pyspark.sql.functions import col, avg"
      ]
    },
    {
      "cell_type": "markdown",
      "metadata": {
        "id": "mooZ8gE28Kse"
      },
      "source": [
        "### Number of reviews, number of 5-star reviews, percentage of 5-star reviews for each type"
      ]
    },
    {
      "cell_type": "code",
      "execution_count": 39,
      "metadata": {
        "colab": {
          "base_uri": "https://localhost:8080/"
        },
        "id": "CHSlQ50C8gMD",
        "outputId": "6cd0c969-87db-4a67-cf15-9195b8e1ea9a"
      },
      "outputs": [
        {
          "name": "stdout",
          "output_type": "stream",
          "text": [
            "The total count of watch reviews is 8409\n",
            "The total count of 5 star watch reviews is 4347\n",
            "The total count of Vine watch reviews is 47\n",
            "The total count of 5 star Vine watch reviews is 15\n",
            "The total count of Non-Vine watch reviews is 8362\n",
            "The total count of 5 star Non-Vine watch reviews is 4332\n",
            "The percent of 5 star Vine watch reviews is 31.9%\n",
            "The percent of 5 star Non-Vine watch reviews is 51.8%\n"
          ]
        }
      ],
      "source": [
        "reviews = helpfulvotes_df.count()\n",
        "fivestarreviews = helpfulvotes_df.filter(helpfulvotes_df[\"star_rating\"] == '5').count()\n",
        "vinereviews = helpfulvotes_df.filter(helpfulvotes_df[\"vine\"] =='Y').count()\n",
        "nonvinereviews = helpfulvotes_df.filter(helpfulvotes_df[\"vine\"] =='N').count()\n",
        "fivestarreviewsvine = helpfulvotes_df.filter((helpfulvotes_df[\"star_rating\"] == '5') & (helpfulvotes_df[\"vine\"] =='Y')).count()\n",
        "fivestarreviewsnonvine = helpfulvotes_df.filter((helpfulvotes_df[\"star_rating\"] == '5') & (helpfulvotes_df[\"vine\"] =='N')).count()\n",
        "percentvinefive = float(fivestarreviewsvine/vinereviews)\n",
        "percentnonvinefive = float(fivestarreviewsnonvine/nonvinereviews)\n",
        "print(\"The total count of watch reviews is \"  + str(reviews))\n",
        "print(\"The total count of 5 star watch reviews is \"  + str(fivestarreviews))\n",
        "print(\"The total count of Vine watch reviews is \"  + str(vinereviews))\n",
        "print(\"The total count of 5 star Vine watch reviews is \"  + str(fivestarreviewsvine))\n",
        "print(\"The total count of Non-Vine watch reviews is \"  + str(nonvinereviews))\n",
        "print(\"The total count of 5 star Non-Vine watch reviews is \"  + str(fivestarreviewsnonvine))\n",
        "print(f\"The percent of 5 star Vine watch reviews is \"  + \"{0:.1%}\".format(percentvinefive))\n",
        "print(f\"The percent of 5 star Non-Vine watch reviews is \"  + \"{0:.1%}\".format(percentnonvinefive))"
      ]
    }
  ],
  "metadata": {
    "colab": {
      "collapsed_sections": [],
      "provenance": []
    },
    "kernelspec": {
      "display_name": "Python 3",
      "name": "python3"
    },
    "language_info": {
      "name": "python"
    },
    "nteract": {
      "version": "0.12.3"
    }
  },
  "nbformat": 4,
  "nbformat_minor": 0
}
